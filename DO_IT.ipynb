{
 "cells": [
  {
   "cell_type": "code",
   "execution_count": null,
   "metadata": {},
   "outputs": [],
   "source": [
    "#import stuff\n",
    "from sklearn.model_selection import train_test_split\n",
    "from sklearn.metrics import davies_bouldin_score\n",
    "from sklearn.metrics import silhouette_score\n",
    "from sklearn.metrics import adjusted_rand_score\n",
    "from sklearn.metrics import calinski_harabasz_score\n",
    "import pandas as pd\n",
    "import numpy as np\n",
    "\n",
    "#read csv\n",
    "df = pd.read_csv(\"iris.csv\")\n",
    "\n",
    "#removing labels\n",
    "df.drop(\"species\", axis = \"columns\", inplace = True)\n",
    "\n",
    "from sklearn import datasets\n",
    "\n",
    "#Getting true labels\n",
    "true_labels = datasets.load_iris().target\n",
    "\n",
    "df"
   ]
  }
 ],
 "metadata": {
  "language_info": {
   "name": "python"
  }
 },
 "nbformat": 4,
 "nbformat_minor": 2
}
